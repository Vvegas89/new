{
  "nbformat": 4,
  "nbformat_minor": 0,
  "metadata": {
    "colab": {
      "provenance": [],
      "include_colab_link": true
    },
    "kernelspec": {
      "name": "python3",
      "display_name": "Python 3"
    },
    "language_info": {
      "name": "python"
    }
  },
  "cells": [
    {
      "cell_type": "markdown",
      "metadata": {
        "id": "view-in-github",
        "colab_type": "text"
      },
      "source": [
        "<a href=\"https://colab.research.google.com/github/Vvegas89/new/blob/main/%D0%9A%D0%A2%D0%9E%D0%94_%D0%9F%D0%97%E2%84%969.ipynb\" target=\"_parent\"><img src=\"https://colab.research.google.com/assets/colab-badge.svg\" alt=\"Open In Colab\"/></a>"
      ]
    },
    {
      "cell_type": "markdown",
      "source": [
        "#🚩📚 Практичні завдання для лабороторної роботи №9\n",
        "\n",
        "\n",
        "❗ Після того як Ви скопіювали блокнот, необхідно його переіменувати з \n",
        "приведенням назви до наступного формату - `[номер_групи]/[Ф І.О.]/КТОД_ПЗ№9.ipynb`, наприклад `КН-ІСТ-99/Гіваргізов І.Г./КТОД_ПЗ№9.ipynb`\n",
        "\n",
        "❗❗ Після проходження практичних завдань прошу розшарити блокнот та відправити посилання на нього на пошту для перевірки.\n",
        "\n",
        "❗❗❗Виконуємо завдання на мові програмування R"
      ],
      "metadata": {
        "id": "eEOxf923aB9y"
      }
    },
    {
      "cell_type": "markdown",
      "source": [
        "#Завдання 1\n",
        "\n",
        "Необхідно на основі датасету https://raw.githubusercontent.com/datasciencedojo/datasets/master/titanic.csv створити класифікаційну або регресійну модель.\n",
        "Алгоритм обрати із тих що ми проходили в лабораторній роботі №9.\n",
        "\n"
      ],
      "metadata": {
        "id": "HSWpLGBlaIjE"
      }
    },
    {
      "cell_type": "code",
      "execution_count": null,
      "metadata": {
        "id": "5zvmyhwPZ-tf"
      },
      "outputs": [],
      "source": []
    }
  ]
}